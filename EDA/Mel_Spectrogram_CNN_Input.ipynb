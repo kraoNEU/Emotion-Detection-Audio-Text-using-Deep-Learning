{
 "cells": [
  {
   "cell_type": "code",
   "execution_count": 1,
   "id": "bda07f2d",
   "metadata": {},
   "outputs": [],
   "source": [
    "# !pip install tensorflow -q\n",
    "# !pip install librosa -q"
   ]
  },
  {
   "cell_type": "code",
   "execution_count": 2,
   "id": "e8ea33de",
   "metadata": {},
   "outputs": [],
   "source": [
    "# importing libraries\n",
    "import pandas as pd\n",
    "import numpy as np\n",
    "import matplotlib.pyplot as plt\n",
    "import seaborn as sns\n",
    "from IPython.display import Audio\n",
    "\n",
    "import os\n",
    "import sys\n",
    "import gc\n",
    "\n",
    "import librosa\n",
    "import librosa.display\n",
    "import json\n",
    "import warnings\n",
    "warnings.filterwarnings('ignore')\n",
    "from tqdm import tqdm"
   ]
  },
  {
   "cell_type": "code",
   "execution_count": 3,
   "id": "deca867a",
   "metadata": {},
   "outputs": [],
   "source": [
    "df = pd.read_csv('file_paths_labels.csv')"
   ]
  },
  {
   "cell_type": "markdown",
   "id": "ce7f336f",
   "metadata": {},
   "source": [
    "# Creating Mel Spectrogram images function"
   ]
  },
  {
   "cell_type": "code",
   "execution_count": 5,
   "id": "ab172753",
   "metadata": {},
   "outputs": [],
   "source": [
    "def create_mel_spectrogram(filepath, n_mels=128, n_frames=248):\n",
    "    data, sr = librosa.load(filepath, sr=None)\n",
    "\n",
    "    # Calculate the number of frames needed to achieve the desired shape\n",
    "    hop_length = len(data) // n_frames\n",
    "    \n",
    "    # Ensure that the hop_length is at least 1\n",
    "    hop_length = max(1, hop_length)\n",
    "\n",
    "    # Compute the Mel spectrogram with the desired parameters\n",
    "    mel_spectrogram = librosa.feature.melspectrogram(y=data, sr=sr, n_mels=n_mels, hop_length=hop_length)\n",
    "    \n",
    "    # Resize the spectrogram to the desired shape using NumPy's slicing\n",
    "    if mel_spectrogram.shape[1] < n_frames:\n",
    "        mel_spectrogram = np.pad(mel_spectrogram, ((0, 0), (0, n_frames - mel_spectrogram.shape[1])))\n",
    "    elif mel_spectrogram.shape[1] > n_frames:\n",
    "        mel_spectrogram = mel_spectrogram[:, :n_frames]\n",
    "\n",
    "    return librosa.power_to_db(mel_spectrogram, ref=np.max)"
   ]
  },
  {
   "cell_type": "code",
   "execution_count": 6,
   "id": "49a654db",
   "metadata": {},
   "outputs": [
    {
     "name": "stderr",
     "output_type": "stream",
     "text": [
      "100%|████████████████████████████████████████████████████████████████████████████| 10602/10602 [08:37<00:00, 20.48it/s]\n"
     ]
    }
   ],
   "source": [
    "# extracting numpy arrays and concatenating\n",
    "mel_spec_arrays = []\n",
    "\n",
    "for filepath in tqdm(df['Filename']):\n",
    "    #print(filepath)\n",
    "    mel_spec_arrays.append(create_mel_spectrogram(filepath))\n",
    "    \n",
    "concat_array = np.stack(mel_spec_arrays, axis = 0)"
   ]
  },
  {
   "cell_type": "code",
   "execution_count": 10,
   "id": "b0b550ad",
   "metadata": {},
   "outputs": [],
   "source": [
    "# Saving numpy arrays\n",
    "file_path = \"mel_spectrogram_arrs.npy\"\n",
    "np.save(file_path, concat_array)\n",
    "\n",
    "file_path = 'labels.npy'\n",
    "np.save(file_path, df['Label'].values)"
   ]
  }
 ],
 "metadata": {
  "kernelspec": {
   "display_name": "Python 3 (ipykernel)",
   "language": "python",
   "name": "python3"
  },
  "language_info": {
   "codemirror_mode": {
    "name": "ipython",
    "version": 3
   },
   "file_extension": ".py",
   "mimetype": "text/x-python",
   "name": "python",
   "nbconvert_exporter": "python",
   "pygments_lexer": "ipython3",
   "version": "3.9.13"
  }
 },
 "nbformat": 4,
 "nbformat_minor": 5
}
